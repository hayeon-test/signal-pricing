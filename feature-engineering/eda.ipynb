{
 "cells": [
  {
   "cell_type": "code",
   "execution_count": null,
   "id": "8b134443",
   "metadata": {},
   "outputs": [],
   "source": [
    "import pandas as pd\n",
    "import os\n",
    "import glob\n",
    "import numpy as np"
   ]
  },
  {
   "cell_type": "code",
   "execution_count": null,
   "id": "f3f85f8f",
   "metadata": {},
   "outputs": [],
   "source": [
    "def standarize_pricing(path=\"/data/raw\"):\n",
    "    parquet_files = glob.glob(os.path.join(path, \"*.parquet.gzip\"))\n",
    "    df_list = []\n",
    "    for file in parquet_files:\n",
    "        df_ = pd.read_parquet(file)\n",
    "        df_list.append(df_)\n",
    "    df = pd.concat(df_list)\n",
    "    df.drop_duplicates(inplace=True)\n",
    "    df[\"time\"] = pd.to_datetime(df.time, infer_datetime_format=False)\n",
    "    df[\"dayofweek\"] = df.time.dt.dayofweek\n",
    "    df.set_index(\"time\", inplace=True)\n",
    "    df.sort_index(inplace=True)\n",
    "    df = df.pivot(columns=\"dayofweek\", values=\"close\")\n",
    "    # Used to determine the start and end dates of a series\n",
    "    output = df.resample('1h').mean().replace(0., np.nan)\n",
    "\n",
    "    earliest_time = output.index.min()\n",
    "\n",
    "    df_list = []\n",
    "    for label in output:\n",
    "        print('Processing {}'.format(label))\n",
    "        srs = output[label]\n",
    "\n",
    "        start_date = min(srs.fillna(method='ffill').dropna().index)\n",
    "        end_date = max(srs.fillna(method='bfill').dropna().index)\n",
    "\n",
    "        active_range = (srs.index >= start_date) & (srs.index <= end_date)\n",
    "        srs = srs[active_range].fillna(0.)\n",
    "\n",
    "        tmp = pd.DataFrame({'closing_price': srs})\n",
    "        date = tmp.index\n",
    "        tmp['t'] = (date - earliest_time).seconds / 60 / 60 + (\n",
    "            date - earliest_time).days * 24\n",
    "        tmp['days_from_start'] = (date - earliest_time).days\n",
    "        tmp['categorical_id'] = label\n",
    "        tmp['date'] = date\n",
    "        tmp['id'] = label\n",
    "        tmp['hour'] = date.hour\n",
    "        tmp['day'] = date.day\n",
    "        tmp['day_of_week'] = date.dayofweek\n",
    "        tmp['month'] = date.month\n",
    "\n",
    "        df_list.append(tmp)\n",
    "\n",
    "    output = pd.concat(df_list, axis=0, join='outer').reset_index(drop=True)\n",
    "\n",
    "    output['categorical_id'] = output['id'].copy()\n",
    "    output['hours_from_start'] = output['t']\n",
    "    output['categorical_day_of_week'] = output['day_of_week'].copy()\n",
    "    output['categorical_hour'] = output['hour'].copy()\n",
    "    return output"
   ]
  },
  {
   "cell_type": "code",
   "execution_count": null,
   "id": "800ca9f4",
   "metadata": {},
   "outputs": [],
   "source": [
    "df = standarize_pricing()"
   ]
  },
  {
   "cell_type": "code",
   "execution_count": null,
   "id": "0e431e59",
   "metadata": {},
   "outputs": [],
   "source": [
    "df.describe()"
   ]
  },
  {
   "cell_type": "code",
   "execution_count": null,
   "id": "e775d844",
   "metadata": {},
   "outputs": [],
   "source": []
  },
  {
   "cell_type": "code",
   "execution_count": null,
   "id": "a7d4d92c",
   "metadata": {},
   "outputs": [],
   "source": []
  },
  {
   "cell_type": "code",
   "execution_count": null,
   "id": "bbbcdc12",
   "metadata": {},
   "outputs": [],
   "source": []
  }
 ],
 "metadata": {
  "kernelspec": {
   "display_name": "Python 3 (ipykernel)",
   "language": "python",
   "name": "python3"
  },
  "language_info": {
   "codemirror_mode": {
    "name": "ipython",
    "version": 3
   },
   "file_extension": ".py",
   "mimetype": "text/x-python",
   "name": "python",
   "nbconvert_exporter": "python",
   "pygments_lexer": "ipython3",
   "version": "3.8.12"
  }
 },
 "nbformat": 4,
 "nbformat_minor": 5
}
